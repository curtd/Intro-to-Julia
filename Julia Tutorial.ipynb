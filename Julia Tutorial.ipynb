{
 "cells": [
  {
   "cell_type": "markdown",
   "metadata": {},
   "source": [
    "# So you want to learn Julia\n",
    "\n",
    "Julia is an open-source language focused on high-performance numerical computing (https://julialang.org). The two main components of Julia that contribute to this goal are \n",
    "\n",
    "- a transparent and automatic type system that can ensure *type-stability*\n",
    "- a just-in-time compiler that, using the inferred types from the previous point, *compiles directly into machine code upon invocation*\n",
    "\n",
    "Julia is in some sense a hybrid of Matlab, Python, and C++11 template types, leveraging the strengths of each approach for producing highly performant (if you know what you're doing) but readable numerical codes. Julia is still in its relative infancy (0.1 was released in 2012, it's currently on 0.6.2 with 0.7/1.0 slated for early 2018), but there have been a growing number of success stories from companies using this language in their daily operations.\n",
    "\n",
    "Julia aims to solve the \"Two Language Problem\", where you have one high-level language for the bulk of your code, which calls out to a lower-level language in performance-critical regions. In this case, you'd often develop an algorithm in your high-level language of choice, to confirm the correctness of your implementation, then tediously rewrite the algorithm in a lower-level language (C, Fortran), checking against your reference implementation. The promise of Julia is that you can write high-performing and readable code once and start using it immediately. \n",
    "\n",
    "If you're familiar with Matlab, the Julia syntax is very similar to Matlab's syntax (probably because the founders of Julia Computing are disgruntled ex-Matlab users, as am I). \n",
    "\n",
    "Julia is an atypical language as most of the Julia language is written in Julia itself. This allows you to do code introspection/generation directly in Julia itself. "
   ]
  },
  {
   "cell_type": "code",
   "execution_count": 2,
   "metadata": {},
   "outputs": [
    {
     "data": {
      "text/plain": [
       "2"
      ]
     },
     "execution_count": 2,
     "metadata": {},
     "output_type": "execute_result"
    }
   ],
   "source": [
    "1+1"
   ]
  },
  {
   "cell_type": "code",
   "execution_count": 3,
   "metadata": {},
   "outputs": [
    {
     "data": {
      "text/plain": [
       "CodeInfo(:(begin \n",
       "        nothing\n",
       "        return (Base.add_int)(x, y)\n",
       "    end))"
      ]
     },
     "execution_count": 3,
     "metadata": {},
     "output_type": "execute_result"
    }
   ],
   "source": [
    "@code_lowered 1+1"
   ]
  },
  {
   "cell_type": "code",
   "execution_count": 4,
   "metadata": {},
   "outputs": [
    {
     "name": "stdout",
     "output_type": "stream",
     "text": [
      "Variables:\n",
      "  #self# <optimized out>\n",
      "  x::Int64\n",
      "  y::Int64\n",
      "\n",
      "Body:\n",
      "  begin \n",
      "      return (Base.add_int)(x::Int64, y::Int64)::Int64\n",
      "  end::Int64\n"
     ]
    }
   ],
   "source": [
    "@code_warntype 1+1"
   ]
  },
  {
   "cell_type": "code",
   "execution_count": 5,
   "metadata": {},
   "outputs": [
    {
     "name": "stdout",
     "output_type": "stream",
     "text": [
      "\t.section\t__TEXT,__text,regular,pure_instructions\n",
      "Filename: int.jl\n",
      "\tpushq\t%rbp\n",
      "\tmovq\t%rsp, %rbp\n",
      "Source line: 32\n",
      "\tleaq\t(%rdi,%rsi), %rax\n",
      "\tpopq\t%rbp\n",
      "\tretq\n",
      "Source line: 32\n",
      "\tnopw\t(%rax,%rax)\n"
     ]
    }
   ],
   "source": [
    "@code_native 1+1"
   ]
  },
  {
   "cell_type": "code",
   "execution_count": 6,
   "metadata": {},
   "outputs": [
    {
     "data": {
      "text/plain": [
       "2.0"
      ]
     },
     "execution_count": 6,
     "metadata": {},
     "output_type": "execute_result"
    }
   ],
   "source": [
    "1.0+1"
   ]
  },
  {
   "cell_type": "code",
   "execution_count": 7,
   "metadata": {},
   "outputs": [
    {
     "data": {
      "text/plain": [
       "CodeInfo(:(begin \n",
       "        nothing\n",
       "        return (Core._apply)(Base.+, (Base.promote)(x, y))\n",
       "    end))"
      ]
     },
     "execution_count": 7,
     "metadata": {},
     "output_type": "execute_result"
    }
   ],
   "source": [
    "@code_lowered 1.0+1"
   ]
  },
  {
   "cell_type": "code",
   "execution_count": 8,
   "metadata": {},
   "outputs": [
    {
     "name": "stdout",
     "output_type": "stream",
     "text": [
      "Variables:\n",
      "  #self# <optimized out>\n",
      "  x::Float64\n",
      "  y::Int64\n",
      "\n",
      "Body:\n",
      "  begin \n",
      "      return (Base.add_float)(x::Float64, (Base.sitofp)(Float64, y::Int64)::Float64)::Float64\n",
      "  end::Float64\n"
     ]
    }
   ],
   "source": [
    "@code_warntype 1.0+1"
   ]
  },
  {
   "cell_type": "code",
   "execution_count": 9,
   "metadata": {},
   "outputs": [
    {
     "name": "stdout",
     "output_type": "stream",
     "text": [
      "\t.section\t__TEXT,__text,regular,pure_instructions\n",
      "Filename: promotion.jl\n",
      "\tpushq\t%rbp\n",
      "\tmovq\t%rsp, %rbp\n",
      "Source line: 249\n",
      "\txorps\t%xmm1, %xmm1\n",
      "\tcvtsi2sdq\t%rdi, %xmm1\n",
      "\taddsd\t%xmm1, %xmm0\n",
      "\tpopq\t%rbp\n",
      "\tretq\n",
      "Source line: 249\n",
      "\tnopw\t%cs:(%rax,%rax)\n"
     ]
    }
   ],
   "source": [
    "@code_native 1.0+1"
   ]
  },
  {
   "cell_type": "markdown",
   "metadata": {},
   "source": [
    "# Differences between Python and Julia\n",
    "Python is an *interpreted*, *dynamically typed* language that has type deduction at runtime. The default, reference implementation is CPython, although other implementations such as PyPy, Jython, IronPython are available. Python compiles code to *byte code*, which is executed by the interpreter. \n",
    "\n",
    "Julia functions are compiled directly to machine code upon first invocation, which takes into account the types of its input arguments. \n",
    "\n",
    "## General\n",
    "- Code blocks require an 'end' statement in Julia, tabs are irrelevant\n",
    "\n",
    "## Arrays\n",
    "- Arrays in Python/C are 0-indexed, arrays in Julia/Matlab are 1-indexed\n",
    "- Array indexing in Julia is inclusive of the last element\n",
    "  - e.g., a[1:3] is the array a[1], a[2], a[3]\n",
    "- Julia does not support negative indexing. The last element of an array is denoted by, e.g., a[end] rather than a[-1] in Python\n",
    "- Arrays are in column-major format"
   ]
  },
  {
   "cell_type": "markdown",
   "metadata": {},
   "source": [
    "# Differences between Matlab and Julia\n",
    "Although the syntax is quite similar, there are a number of notable differences between Matlab and Julia.\n",
    "\n",
    "## General\n",
    "- The imaginary unit is im. Complex numbers are constructed as a+b*im or Complex(a,b)\n",
    "- Output arguments are assigned via tuples. There is no varargout/nargout in Julia, but a similar result can be achieved by modifying input arguments.\n",
    "\n",
    "## Built-in types\n",
    "- In Matlab, built-in numeric types are first-class objects whereas user-defined types are not as highly performant as matrices and vectors\n",
    "- In Julia, there's nothing special about the built-in types -- you can write your own types that will perform just as well \n",
    "\n",
    "## Arrays\n",
    "- Arrays are indexed by square brackets, A[i,j]\n",
    "- Julia values are passed by reference, arrays are assigned by reference\n",
    "- Julia doesn't automatically grow arrays "
   ]
  },
  {
   "cell_type": "markdown",
   "metadata": {},
   "source": [
    "# Julia's Type System\n",
    "There are a few \n",
    "\n",
    "- Concrete types are final and can only subclass abstract classes\n",
    "- There are no non-objects in Julia -- user-defined classes, built-in types, numeric values such as ints and floats, all are objects in the OO sense. The difference in Julia being that constructing concrete objects do not carry runtime overhead compared to say Python. \n",
    "- Values have types, variables do not (they're just names bound to variables)\n",
    "- Types can be parametrized in a variety of ways, but can be omitted when there are no restrictions on them/the resulting types can be inferred by the compiler.\n",
    "\n",
    "- Use the :: operator to specify types, A <: B denotes \"A is a subtype of B\"\n",
    "- Objects are not bundled with the methods that operate on them, as in Python or C++. Instead, the \n"
   ]
  },
  {
   "cell_type": "code",
   "execution_count": 1,
   "metadata": {},
   "outputs": [
    {
     "ename": "LoadError",
     "evalue": "\u001b[91mMethodError: no method matching func(::Int64, ::Int64)\u001b[39m",
     "output_type": "error",
     "traceback": [
      "\u001b[91mMethodError: no method matching func(::Int64, ::Int64)\u001b[39m",
      "",
      "Stacktrace:",
      " [1] \u001b[1minclude_string\u001b[22m\u001b[22m\u001b[1m(\u001b[22m\u001b[22m::String, ::String\u001b[1m)\u001b[22m\u001b[22m at \u001b[1m./loading.jl:522\u001b[22m\u001b[22m"
     ]
    }
   ],
   "source": [
    "function func(x::Float64, y::Float64)\n",
    "    sin(x) + cos(y)^2\n",
    "end\n",
    "z = func(1,1)"
   ]
  },
  {
   "cell_type": "code",
   "execution_count": 2,
   "metadata": {},
   "outputs": [
    {
     "data": {
      "text/plain": [
       "1.1333975665343254"
      ]
     },
     "execution_count": 2,
     "metadata": {},
     "output_type": "execute_result"
    }
   ],
   "source": [
    "z = func(1.0,1.0)"
   ]
  },
  {
   "cell_type": "code",
   "execution_count": 3,
   "metadata": {},
   "outputs": [
    {
     "data": {
      "text/plain": [
       "func (generic function with 2 methods)"
      ]
     },
     "execution_count": 3,
     "metadata": {},
     "output_type": "execute_result"
    }
   ],
   "source": [
    "function func(x::Number, y::Number)\n",
    "   sin(x) + cos(y)^2 \n",
    "end"
   ]
  },
  {
   "cell_type": "code",
   "execution_count": 4,
   "metadata": {},
   "outputs": [
    {
     "data": {
      "text/plain": [
       "1.1333975665343254 + 0.0im"
      ]
     },
     "execution_count": 4,
     "metadata": {},
     "output_type": "execute_result"
    }
   ],
   "source": [
    "func(1.0+0.0im,1.0)"
   ]
  },
  {
   "cell_type": "code",
   "execution_count": 6,
   "metadata": {},
   "outputs": [
    {
     "ename": "LoadError",
     "evalue": "\u001b[91mMethodError: no method matching sin(::Char)\u001b[0m\nClosest candidates are:\n  sin(\u001b[91m::BigFloat\u001b[39m) at mpfr.jl:637\n  sin(\u001b[91m::Complex{Float16}\u001b[39m) at math.jl:951\n  sin(\u001b[91m::Float16\u001b[39m) at math.jl:950\n  ...\u001b[39m",
     "output_type": "error",
     "traceback": [
      "\u001b[91mMethodError: no method matching sin(::Char)\u001b[0m\nClosest candidates are:\n  sin(\u001b[91m::BigFloat\u001b[39m) at mpfr.jl:637\n  sin(\u001b[91m::Complex{Float16}\u001b[39m) at math.jl:951\n  sin(\u001b[91m::Float16\u001b[39m) at math.jl:950\n  ...\u001b[39m",
      "",
      "Stacktrace:",
      " [1] \u001b[1mfunc\u001b[22m\u001b[22m\u001b[1m(\u001b[22m\u001b[22m::Char, ::Char\u001b[1m)\u001b[22m\u001b[22m at \u001b[1m./In[6]:2\u001b[22m\u001b[22m",
      " [2] \u001b[1minclude_string\u001b[22m\u001b[22m\u001b[1m(\u001b[22m\u001b[22m::String, ::String\u001b[1m)\u001b[22m\u001b[22m at \u001b[1m./loading.jl:522\u001b[22m\u001b[22m"
     ]
    }
   ],
   "source": [
    "function func(x,y)\n",
    "    sin(x) + cos(y)^2\n",
    "end\n",
    "w = func(1.0,1.0)\n",
    "x = func(1,1)"
   ]
  },
  {
   "cell_type": "code",
   "execution_count": 7,
   "metadata": {},
   "outputs": [
    {
     "name": "stdout",
     "output_type": "stream",
     "text": [
      "(x, y) = ('a', 'b')\n"
     ]
    },
    {
     "ename": "LoadError",
     "evalue": "\u001b[91mMethodError: no method matching sin(::Char)\u001b[0m\nClosest candidates are:\n  sin(\u001b[91m::BigFloat\u001b[39m) at mpfr.jl:637\n  sin(\u001b[91m::Complex{Float16}\u001b[39m) at math.jl:951\n  sin(\u001b[91m::Float16\u001b[39m) at math.jl:950\n  ...\u001b[39m",
     "output_type": "error",
     "traceback": [
      "\u001b[91mMethodError: no method matching sin(::Char)\u001b[0m\nClosest candidates are:\n  sin(\u001b[91m::BigFloat\u001b[39m) at mpfr.jl:637\n  sin(\u001b[91m::Complex{Float16}\u001b[39m) at math.jl:951\n  sin(\u001b[91m::Float16\u001b[39m) at math.jl:950\n  ...\u001b[39m",
      "",
      "Stacktrace:",
      " [1] \u001b[1mfunc\u001b[22m\u001b[22m\u001b[1m(\u001b[22m\u001b[22m::Char, ::Float64\u001b[1m)\u001b[22m\u001b[22m at \u001b[1m./In[6]:2\u001b[22m\u001b[22m",
      " [2] \u001b[1minclude_string\u001b[22m\u001b[22m\u001b[1m(\u001b[22m\u001b[22m::String, ::String\u001b[1m)\u001b[22m\u001b[22m at \u001b[1m./loading.jl:522\u001b[22m\u001b[22m"
     ]
    }
   ],
   "source": [
    "function func(x::T,y::T) where {T}\n",
    "   @show x, y\n",
    "   return nothing\n",
    "end\n",
    "w = func('a','b')\n",
    "z = func('a',1.0)"
   ]
  },
  {
   "cell_type": "code",
   "execution_count": 10,
   "metadata": {},
   "outputs": [
    {
     "data": {
      "text/html": [
       "4 methods for generic function <b>func</b>:<ul><li> func(x::<b>Float64</b>, y::<b>Float64</b>) at In[1]:2</li> <li> func(x::<b>Number</b>, y::<b>Number</b>) at In[3]:2</li> <li> func<i>{T}</i>(x::<b>T</b>, y::<b>T</b>) at In[7]:2</li> <li> func(x, y) at In[6]:2</li> </ul>"
      ],
      "text/plain": [
       "# 4 methods for generic function \"func\":\n",
       "func(x::Float64, y::Float64) in Main at In[1]:2\n",
       "func(x::Number, y::Number) in Main at In[3]:2\n",
       "func(x::T, y::T) where T in Main at In[7]:2\n",
       "func(x, y) in Main at In[6]:2"
      ]
     },
     "execution_count": 10,
     "metadata": {},
     "output_type": "execute_result"
    }
   ],
   "source": [
    "methods(func)"
   ]
  },
  {
   "cell_type": "code",
   "execution_count": 11,
   "metadata": {},
   "outputs": [
    {
     "data": {
      "text/plain": [
       "\"a b\""
      ]
     },
     "execution_count": 11,
     "metadata": {},
     "output_type": "execute_result"
    }
   ],
   "source": [
    "function func(x::T,y::T) where {T<:AbstractString}\n",
    "   return x * \" \" * y\n",
    "end\n",
    "func(\"a\",\"b\")"
   ]
  },
  {
   "cell_type": "code",
   "execution_count": 12,
   "metadata": {},
   "outputs": [
    {
     "data": {
      "text/html": [
       "5 methods for generic function <b>func</b>:<ul><li> func(x::<b>Float64</b>, y::<b>Float64</b>) at In[1]:2</li> <li> func(x::<b>Number</b>, y::<b>Number</b>) at In[3]:2</li> <li> func<i>{T<:AbstractString}</i>(x::<b>T</b>, y::<b>T</b>) at In[11]:2</li> <li> func<i>{T}</i>(x::<b>T</b>, y::<b>T</b>) at In[7]:2</li> <li> func(x, y) at In[6]:2</li> </ul>"
      ],
      "text/plain": [
       "# 5 methods for generic function \"func\":\n",
       "func(x::Float64, y::Float64) in Main at In[1]:2\n",
       "func(x::Number, y::Number) in Main at In[3]:2\n",
       "func(x::T, y::T) where T<:AbstractString in Main at In[11]:2\n",
       "func(x::T, y::T) where T in Main at In[7]:2\n",
       "func(x, y) in Main at In[6]:2"
      ]
     },
     "execution_count": 12,
     "metadata": {},
     "output_type": "execute_result"
    }
   ],
   "source": [
    "methods(func)"
   ]
  },
  {
   "cell_type": "markdown",
   "metadata": {},
   "source": [
    "Because of Julia's type system, we can get really fast for loops, unlike in Python"
   ]
  },
  {
   "cell_type": "code",
   "execution_count": 13,
   "metadata": {},
   "outputs": [
    {
     "name": "stdout",
     "output_type": "stream",
     "text": [
      "  0.210856 seconds (4.00 M allocations: 76.282 MiB, 5.84% gc time)\n"
     ]
    }
   ],
   "source": [
    "N = 1000000\n",
    "y = zeros(N)\n",
    "@time begin\n",
    "    for i = 1:N\n",
    "       y[i] = sin(i)\n",
    "    end\n",
    "end"
   ]
  },
  {
   "cell_type": "code",
   "execution_count": 14,
   "metadata": {},
   "outputs": [
    {
     "name": "stdout",
     "output_type": "stream",
     "text": [
      "  0.432645 seconds (136.77 k allocations: 14.817 MiB, 0.93% gc time)\n"
     ]
    },
    {
     "name": "stderr",
     "output_type": "stream",
     "text": [
      "\u001b[1m\u001b[33mWARNING: \u001b[39m\u001b[22m\u001b[33msin(x::AbstractArray{T}) where T <: Number is deprecated, use sin.(x) instead.\u001b[39m\n",
      "Stacktrace:\n",
      " [1] \u001b[1mdepwarn\u001b[22m\u001b[22m\u001b[1m(\u001b[22m\u001b[22m::String, ::Symbol\u001b[1m)\u001b[22m\u001b[22m at \u001b[1m./deprecated.jl:70\u001b[22m\u001b[22m\n",
      " [2] \u001b[1msin\u001b[22m\u001b[22m\u001b[1m(\u001b[22m\u001b[22m::UnitRange{Int64}\u001b[1m)\u001b[22m\u001b[22m at \u001b[1m./deprecated.jl:57\u001b[22m\u001b[22m\n",
      " [3] \u001b[1minclude_string\u001b[22m\u001b[22m\u001b[1m(\u001b[22m\u001b[22m::String, ::String\u001b[1m)\u001b[22m\u001b[22m at \u001b[1m./loading.jl:522\u001b[22m\u001b[22m\n",
      " [4] \u001b[1minclude_string\u001b[22m\u001b[22m\u001b[1m(\u001b[22m\u001b[22m::Module, ::String, ::String\u001b[1m)\u001b[22m\u001b[22m at \u001b[1m/Users/cdasilva/.julia/v0.6/Compat/src/Compat.jl:174\u001b[22m\u001b[22m\n",
      " [5] \u001b[1mexecute_request\u001b[22m\u001b[22m\u001b[1m(\u001b[22m\u001b[22m::ZMQ.Socket, ::IJulia.Msg\u001b[1m)\u001b[22m\u001b[22m at \u001b[1m/Users/cdasilva/.julia/v0.6/IJulia/src/execute_request.jl:154\u001b[22m\u001b[22m\n",
      " [6] \u001b[1m(::Compat.#inner#16{Array{Any,1},IJulia.#execute_request,Tuple{ZMQ.Socket,IJulia.Msg}})\u001b[22m\u001b[22m\u001b[1m(\u001b[22m\u001b[22m\u001b[1m)\u001b[22m\u001b[22m at \u001b[1m/Users/cdasilva/.julia/v0.6/Compat/src/Compat.jl:496\u001b[22m\u001b[22m\n",
      " [7] \u001b[1meventloop\u001b[22m\u001b[22m\u001b[1m(\u001b[22m\u001b[22m::ZMQ.Socket\u001b[1m)\u001b[22m\u001b[22m at \u001b[1m/Users/cdasilva/.julia/v0.6/IJulia/src/eventloop.jl:8\u001b[22m\u001b[22m\n",
      " [8] \u001b[1m(::IJulia.##14#17)\u001b[22m\u001b[22m\u001b[1m(\u001b[22m\u001b[22m\u001b[1m)\u001b[22m\u001b[22m at \u001b[1m./task.jl:335\u001b[22m\u001b[22m\n",
      "while loading In[14], in expression starting on line 2\n"
     ]
    },
    {
     "data": {
      "text/plain": [
       "1000000-element Array{Float64,1}:\n",
       "  0.841471 \n",
       "  0.909297 \n",
       "  0.14112  \n",
       " -0.756802 \n",
       " -0.958924 \n",
       " -0.279415 \n",
       "  0.656987 \n",
       "  0.989358 \n",
       "  0.412118 \n",
       " -0.544021 \n",
       " -0.99999  \n",
       " -0.536573 \n",
       "  0.420167 \n",
       "  ⋮        \n",
       "  0.935194 \n",
       "  0.803283 \n",
       " -0.0671632\n",
       " -0.875859 \n",
       " -0.879294 \n",
       " -0.0743103\n",
       "  0.798994 \n",
       "  0.937707 \n",
       "  0.214296 \n",
       " -0.706138 \n",
       " -0.977352 \n",
       " -0.349994 "
      ]
     },
     "execution_count": 14,
     "metadata": {},
     "output_type": "execute_result"
    }
   ],
   "source": [
    "@time begin\n",
    "   z = sin(1:N)\n",
    "end\n"
   ]
  },
  {
   "cell_type": "code",
   "execution_count": 15,
   "metadata": {},
   "outputs": [
    {
     "name": "stdout",
     "output_type": "stream",
     "text": [
      "  0.062025 seconds (23.00 k allocations: 8.787 MiB)\n"
     ]
    },
    {
     "data": {
      "text/plain": [
       "7.62939453125"
      ]
     },
     "execution_count": 15,
     "metadata": {},
     "output_type": "execute_result"
    }
   ],
   "source": [
    "@time begin\n",
    "   z = sin.(1:N)\n",
    "end\n",
    "N*8/1024^2\n"
   ]
  },
  {
   "cell_type": "markdown",
   "metadata": {},
   "source": [
    "# Calling out to C\n",
    "Although Julia aims to be a one-stop shop of a language, there are easy ways to call out to C. There's no compilation step required for C, just use the function ``ccall`` with the syntax\n",
    "\n",
    "``ccall((:func_name, \"library_name\"),output_type, (input_types),input1,input2,...)``"
   ]
  },
  {
   "cell_type": "code",
   "execution_count": 20,
   "metadata": {},
   "outputs": [
    {
     "data": {
      "text/plain": [
       "13499297"
      ]
     },
     "execution_count": 20,
     "metadata": {},
     "output_type": "execute_result"
    }
   ],
   "source": [
    "t = ccall((:clock, \"libc\"), Int32, ())"
   ]
  },
  {
   "cell_type": "code",
   "execution_count": 21,
   "metadata": {},
   "outputs": [
    {
     "data": {
      "text/plain": [
       "\"/bin/bash\""
      ]
     },
     "execution_count": 21,
     "metadata": {},
     "output_type": "execute_result"
    }
   ],
   "source": [
    "path = ccall((:getenv, \"libc\"), Cstring, (Cstring,), \"SHELL\")\n",
    "unsafe_string(path)"
   ]
  },
  {
   "cell_type": "markdown",
   "metadata": {},
   "source": [
    "# Calling out to Python/C++\n",
    "There's no native functions for calling Python or C++ functions, but there are a few packages available that perform this operation:\n",
    "- PyCall.jl - https://github.com/JuliaPy/PyCall.jl\n",
    "- CxxWrap.jl - https://github.com/Keno/Cxx.jl/"
   ]
  },
  {
   "cell_type": "markdown",
   "metadata": {},
   "source": [
    "# The Good\n",
    "- Vibrant community of core language developers as well as external package developers\n",
    "  - Central, open source repository of packages for solving differential equations, doing numerical linear algebra, solving optimization problems, plotting, etc.\n",
    "- High performance code with relatively straightforward \n",
    "- Easy to generate code with metaprogramming"
   ]
  },
  {
   "cell_type": "markdown",
   "metadata": {},
   "source": [
    "# Fun miscellany\n",
    "Julia has support for unicode + some latex characters with tab-completion, so you can write valid code like"
   ]
  },
  {
   "cell_type": "code",
   "execution_count": 24,
   "metadata": {},
   "outputs": [
    {
     "data": {
      "text/plain": [
       "(1.2246467991473532e-16, -1.0)"
      ]
     },
     "execution_count": 24,
     "metadata": {},
     "output_type": "execute_result"
    }
   ],
   "source": [
    "f = x->sin(x)\n",
    "∇f = x->cos(x)\n",
    "f(π), ∇f(π)"
   ]
  },
  {
   "cell_type": "markdown",
   "metadata": {},
   "source": [
    "# Package Management/Usage\n",
    "Julia has its own pip-like package manager. The Julia package manager is very much git/github-based, with each package being hosted as its own git repository. "
   ]
  },
  {
   "cell_type": "code",
   "execution_count": 25,
   "metadata": {},
   "outputs": [
    {
     "name": "stderr",
     "output_type": "stream",
     "text": [
      "\u001b[1m\u001b[36mINFO: \u001b[39m\u001b[22m\u001b[36mUpdating METADATA...\n",
      "\u001b[39m\u001b[1m\u001b[36mINFO: \u001b[39m\u001b[22m\u001b[36mUpdating JOLI master...\n",
      "\u001b[39m\u001b[1m\u001b[36mINFO: \u001b[39m\u001b[22m\u001b[36mComputing changes...\n",
      "\u001b[39m\u001b[1m\u001b[36mINFO: \u001b[39m\u001b[22m\u001b[36mNo packages to install, update or remove\n",
      "\u001b[39m\u001b[1m\u001b[36mINFO: \u001b[39m\u001b[22m\u001b[36mPackage Revise is already installed\n",
      "\u001b[39m\u001b[1m\u001b[36mINFO: \u001b[39m\u001b[22m\u001b[36mPackage ForwardDiff is already installed\n",
      "\u001b[39m\u001b[1m\u001b[36mINFO: \u001b[39m\u001b[22m\u001b[36mCloning JOLI from git@github.com:slimgroup/JOLI.jl.git\n",
      "\u001b[39m"
     ]
    },
    {
     "ename": "LoadError",
     "evalue": "\u001b[91mJOLI already exists\u001b[39m",
     "output_type": "error",
     "traceback": [
      "\u001b[91mJOLI already exists\u001b[39m",
      "",
      "Stacktrace:",
      " [1] \u001b[1mclone\u001b[22m\u001b[22m\u001b[1m(\u001b[22m\u001b[22m::String, ::SubString{String}\u001b[1m)\u001b[22m\u001b[22m at \u001b[1m./pkg/entry.jl:193\u001b[22m\u001b[22m",
      " [2] \u001b[1m(::Base.Pkg.Dir.##4#7{Array{Any,1},Base.Pkg.Entry.#clone,Tuple{String}})\u001b[22m\u001b[22m\u001b[1m(\u001b[22m\u001b[22m\u001b[1m)\u001b[22m\u001b[22m at \u001b[1m./pkg/dir.jl:36\u001b[22m\u001b[22m",
      " [3] \u001b[1mcd\u001b[22m\u001b[22m\u001b[1m(\u001b[22m\u001b[22m::Base.Pkg.Dir.##4#7{Array{Any,1},Base.Pkg.Entry.#clone,Tuple{String}}, ::String\u001b[1m)\u001b[22m\u001b[22m at \u001b[1m./file.jl:70\u001b[22m\u001b[22m",
      " [4] \u001b[1m#cd#1\u001b[22m\u001b[22m\u001b[1m(\u001b[22m\u001b[22m::Array{Any,1}, ::Function, ::Function, ::String, ::Vararg{String,N} where N\u001b[1m)\u001b[22m\u001b[22m at \u001b[1m./pkg/dir.jl:36\u001b[22m\u001b[22m",
      " [5] \u001b[1mclone\u001b[22m\u001b[22m\u001b[1m(\u001b[22m\u001b[22m::String\u001b[1m)\u001b[22m\u001b[22m at \u001b[1m./pkg/pkg.jl:169\u001b[22m\u001b[22m",
      " [6] \u001b[1minclude_string\u001b[22m\u001b[22m\u001b[1m(\u001b[22m\u001b[22m::String, ::String\u001b[1m)\u001b[22m\u001b[22m at \u001b[1m./loading.jl:522\u001b[22m\u001b[22m"
     ]
    }
   ],
   "source": [
    "# Update your installed packages\n",
    "Pkg.update()\n",
    "\n",
    "# Add a registered package \n",
    "Pkg.add(\"Revise\")\n",
    "Pkg.add(\"ForwardDiff\")\n",
    "\n",
    "# Add a package from an unregistered github source\n",
    "Pkg.clone(\"git@github.com:slimgroup/JOLI.jl.git\")"
   ]
  },
  {
   "cell_type": "code",
   "execution_count": 22,
   "metadata": {},
   "outputs": [
    {
     "data": {
      "text/plain": [
       "1000-element Array{Float64,1}:\n",
       " 0.788529 \n",
       " 0.33664  \n",
       " 0.938673 \n",
       " 0.245817 \n",
       " 0.863658 \n",
       " 0.24677  \n",
       " 0.72279  \n",
       " 0.547272 \n",
       " 0.164497 \n",
       " 0.463834 \n",
       " 0.581265 \n",
       " 0.607164 \n",
       " 0.464779 \n",
       " ⋮        \n",
       " 0.880766 \n",
       " 0.762799 \n",
       " 0.878195 \n",
       " 0.299958 \n",
       " 0.890487 \n",
       " 0.0496437\n",
       " 0.613424 \n",
       " 0.178685 \n",
       " 0.132254 \n",
       " 0.0582946\n",
       " 0.658534 \n",
       " 0.619251 "
      ]
     },
     "execution_count": 22,
     "metadata": {},
     "output_type": "execute_result"
    }
   ],
   "source": [
    "x = rand(1000)\n",
    "dx = rand(1000)"
   ]
  },
  {
   "cell_type": "code",
   "execution_count": 26,
   "metadata": {},
   "outputs": [
    {
     "name": "stdout",
     "output_type": "stream",
     "text": [
      "[1.99825, 2.00005, 2.00018, 2.00179, 2.01733, 271.1]"
     ]
    }
   ],
   "source": [
    "import ForwardDiff\n",
    "F(x::Vector) = sum(sin, x) + prod(tan, x) * sum(sqrt, x)\n",
    "f0 = F(x)\n",
    "∇f = ForwardDiff.gradient(F,x)\n",
    "df = ∇f'*dx\n",
    "h = 10.0 .^(-6:0)\n",
    "e1 = zeros(length(h))\n",
    "for i=1:length(h)\n",
    "   e1[i] = abs(F(x+h[i]*dx)-f0-h[i]*df) \n",
    "end\n",
    "print(diff(log10.(e1)))"
   ]
  },
  {
   "cell_type": "code",
   "execution_count": 28,
   "metadata": {},
   "outputs": [
    {
     "name": "stdout",
     "output_type": "stream",
     "text": [
      "  14.485 ns (0 allocations: 0 bytes)\n"
     ]
    },
    {
     "data": {
      "text/plain": [
       "0.8414709848078965"
      ]
     },
     "execution_count": 28,
     "metadata": {},
     "output_type": "execute_result"
    }
   ],
   "source": [
    "using BenchmarkTools\n",
    "@btime sin(1.0)"
   ]
  },
  {
   "cell_type": "code",
   "execution_count": 29,
   "metadata": {},
   "outputs": [
    {
     "data": {
      "text/html": [
       "<img src=\"data:image/png;base64,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\" />"
      ]
     },
     "execution_count": 29,
     "metadata": {},
     "output_type": "execute_result"
    }
   ],
   "source": [
    "import Plots\n",
    "Plots.plot(0:0.01:2π,sin)"
   ]
  },
  {
   "cell_type": "markdown",
   "metadata": {},
   "source": [
    "# The Bad\n",
    "- As the Julia version is < 1.0, the language syntax + structure is in flux from version to version. The next version (0.7) is slated for release soon*, which is going to be reversioned to 1.0 and at that point the language specification will be fixed. \n",
    "   - The Julia folks try to preserve backwards compatibility, but this isn't always possible (*)\n",
    "- Okay IDE integration \n",
    "   - sophisticated tools developed for Atom, but Atom itself is pretty terrible\n",
    "   - emacs, vim, visual studio code\n",
    "- You actually have to care about types in order to get performance out of your code (could be a bad thing if you're used to Python's type-free environment)"
   ]
  },
  {
   "cell_type": "markdown",
   "metadata": {},
   "source": [
    "# The Ugly\n",
    "- Because of (*), the previous debugger was written for Julia 0.5. For 0.6, the current version, there's no debugger :( \n",
    "   - Hopefully will be fixed for 0.7/1.0, but I haven't heard anything on that end"
   ]
  },
  {
   "cell_type": "markdown",
   "metadata": {},
   "source": [
    "# Fun Links\n",
    "1. \"How Python was Shaped by leaky Internals\" https://www.youtube.com/watch?v=qCGofLIzX6g\n",
    "2. \"Why Julia\" http://ucidatascienceinitiative.github.io/IntroToJulia/Html/WhyJulia\n",
    "3. Julia manual https://docs.julialang.org/en/latest/\n",
    "4. Loop fusion in Julia https://julialang.org/blog/2017/01/moredots"
   ]
  },
  {
   "cell_type": "markdown",
   "metadata": {},
   "source": [
    "# Useful Packages\n",
    "1. Revise.jl - Automatic type/function reloading upon source changes, very useful for development - https://github.com/timholy/Revise.jl \n",
    "2. Machine Learning Packages\n",
    "   - Flux - https://fluxml.github.io/Flux.jl/stable/\n",
    "   - TensorFlow - https://github.com/malmaud/TensorFlow.jl\n",
    "   - ForwardDiff - automatic differentiation - https://github.com/JuliaDiff/ForwardDiff.jl   \n",
    "3. Statistical Computing - https://github.com/JuliaStats\n",
    "   - Generalized Linear Models - https://github.com/JuliaStats/GLM.jl\n",
    "   - Time Series - https://github.com/JuliaStats/TimeSeries.jl\n",
    "   - ScikitLearn - https://github.com/cstjean/ScikitLearn.jl   \n",
    "4. Optimization - http://www.juliaopt.org/packages/\n",
    "5. Miscellaneous\n",
    "   - JOLI - Linear operator wrappers - https://github.com/slimgroup/JOLI.jl\n",
    "   - DifferentialEquations - high performance + versatile differential equations solver - https://github.com/JuliaDiffEq/DifferentialEquations.jl\n",
    "   - DualNumbers - https://github.com/JuliaDiff/DualNumbers.jl\n",
    "   - List of Earth Science packages - https://github.com/svaksha/Julia.jl/blob/master/Earth-Science.md"
   ]
  }
 ],
 "metadata": {
  "kernelspec": {
   "display_name": "Julia 0.6.0",
   "language": "julia",
   "name": "julia-0.6"
  },
  "language_info": {
   "file_extension": ".jl",
   "mimetype": "application/julia",
   "name": "julia",
   "version": "0.6.2"
  }
 },
 "nbformat": 4,
 "nbformat_minor": 2
}
